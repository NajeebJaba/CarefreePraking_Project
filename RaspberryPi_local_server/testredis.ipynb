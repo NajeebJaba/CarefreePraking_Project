{
 "cells": [
  {
   "cell_type": "code",
   "execution_count": 1,
   "metadata": {},
   "outputs": [],
   "source": [
    "#import takePic\n",
    "#import client\n",
    "#import blink\n",
    "#import licenceplateML\n",
    "#import barrier\n",
    "##import time\n",
    "import redis\n",
    "#import parking\n",
    "import io\n",
    "import base64"
   ]
  },
  {
   "cell_type": "code",
   "execution_count": 2,
   "metadata": {},
   "outputs": [
    {
     "name": "stdout",
     "output_type": "stream",
     "text": [
      "True\n"
     ]
    }
   ],
   "source": [
    "r = redis.Redis(host=\"3.112.247.246\", port=6379)#ip=\n",
    "print(r.set('a','a'))"
   ]
  },
  {
   "cell_type": "code",
   "execution_count": 3,
   "metadata": {},
   "outputs": [
    {
     "name": "stdout",
     "output_type": "stream",
     "text": [
      "got\n"
     ]
    }
   ],
   "source": [
    "r = redis.Redis(host=\"3.112.247.246\", port=6379)#ip=\n",
    "a=r.get('a')\n",
    "\n",
    "print('got')\n",
    "a=r.get('pic')"
   ]
  },
  {
   "cell_type": "code",
   "execution_count": 5,
   "metadata": {},
   "outputs": [
    {
     "ename": "AttributeError",
     "evalue": "'NoneType' object has no attribute 'decode'",
     "output_type": "error",
     "traceback": [
      "\u001b[1;31m---------------------------------------------------------------------------\u001b[0m",
      "\u001b[1;31mAttributeError\u001b[0m                            Traceback (most recent call last)",
      "Cell \u001b[1;32mIn[5], line 5\u001b[0m\n\u001b[0;32m      2\u001b[0m name\u001b[39m=\u001b[39m\u001b[39m'\u001b[39m\u001b[39mtestpic5.jpg\u001b[39m\u001b[39m'\u001b[39m\n\u001b[0;32m      4\u001b[0m im\u001b[39m=\u001b[39mr\u001b[39m.\u001b[39mget(\u001b[39m'\u001b[39m\u001b[39mpic\u001b[39m\u001b[39m'\u001b[39m)\n\u001b[1;32m----> 5\u001b[0m im\u001b[39m=\u001b[39mim\u001b[39m.\u001b[39;49mdecode(\u001b[39m'\u001b[39m\u001b[39mutf-8\u001b[39m\u001b[39m'\u001b[39m)\n\u001b[0;32m      6\u001b[0m im\u001b[39m=\u001b[39mbase64\u001b[39m.\u001b[39mb64decode(im)\n\u001b[0;32m      7\u001b[0m fh \u001b[39m=\u001b[39m \u001b[39mopen\u001b[39m(name, \u001b[39m\"\u001b[39m\u001b[39mwb\u001b[39m\u001b[39m\"\u001b[39m)\n",
      "\u001b[1;31mAttributeError\u001b[0m: 'NoneType' object has no attribute 'decode'"
     ]
    }
   ],
   "source": [
    "#r = redis.Redis()\n",
    "name='testpic5.jpg'\n",
    "\n",
    "im=r.get('pic')\n",
    "im=im.decode('utf-8')\n",
    "im=base64.b64decode(im)\n",
    "fh = open(name, \"wb\")\n",
    "fh.write(im)\n",
    "fh.close()"
   ]
  },
  {
   "cell_type": "code",
   "execution_count": 3,
   "metadata": {},
   "outputs": [
    {
     "ename": "NameError",
     "evalue": "name 'r' is not defined",
     "output_type": "error",
     "traceback": [
      "\u001b[1;31m---------------------------------------------------------------------------\u001b[0m",
      "\u001b[1;31mNameError\u001b[0m                                 Traceback (most recent call last)",
      "Cell \u001b[1;32mIn[3], line 1\u001b[0m\n\u001b[1;32m----> 1\u001b[0m im\u001b[39m=\u001b[39mr\u001b[39m.\u001b[39mget(\u001b[39m'\u001b[39m\u001b[39mpic\u001b[39m\u001b[39m'\u001b[39m)\n",
      "\u001b[1;31mNameError\u001b[0m: name 'r' is not defined"
     ]
    }
   ],
   "source": [
    "im=r.get('pic')"
   ]
  },
  {
   "cell_type": "code",
   "execution_count": 6,
   "metadata": {},
   "outputs": [
    {
     "name": "stdout",
     "output_type": "stream",
     "text": [
      "None\n"
     ]
    },
    {
     "ename": "AttributeError",
     "evalue": "'NoneType' object has no attribute 'decode'",
     "output_type": "error",
     "traceback": [
      "\u001b[1;31m---------------------------------------------------------------------------\u001b[0m",
      "\u001b[1;31mAttributeError\u001b[0m                            Traceback (most recent call last)",
      "Cell \u001b[1;32mIn[6], line 2\u001b[0m\n\u001b[0;32m      1\u001b[0m \u001b[39mprint\u001b[39m(im)\n\u001b[1;32m----> 2\u001b[0m \u001b[39mprint\u001b[39m(\u001b[39mstr\u001b[39m(im\u001b[39m.\u001b[39;49mdecode(\u001b[39m'\u001b[39m\u001b[39mutf-8\u001b[39m\u001b[39m'\u001b[39m)))\n\u001b[0;32m      3\u001b[0m im\u001b[39m=\u001b[39mim\u001b[39m.\u001b[39mdecode(\u001b[39m'\u001b[39m\u001b[39mutf-8\u001b[39m\u001b[39m'\u001b[39m)\n",
      "\u001b[1;31mAttributeError\u001b[0m: 'NoneType' object has no attribute 'decode'"
     ]
    }
   ],
   "source": [
    "print(im)\n",
    "print(str(im.decode('utf-8')))\n",
    "im=im.decode('utf-8')"
   ]
  },
  {
   "cell_type": "code",
   "execution_count": null,
   "metadata": {},
   "outputs": [],
   "source": [
    "im=base64.b64decode(im)\n",
    "print(im)"
   ]
  },
  {
   "cell_type": "code",
   "execution_count": null,
   "metadata": {},
   "outputs": [],
   "source": [
    "fh = open('testpic2.jpg', \"wb\")\n",
    "fh.write(im)\n",
    "fh.close()"
   ]
  },
  {
   "cell_type": "code",
   "execution_count": null,
   "metadata": {},
   "outputs": [],
   "source": [
    "def main():\n",
    "      name='pic.jpg'\n",
    "      print('start server')\n",
    "      #gate=barrier.Barrier()\n",
    "      r = redis.Redis(host=\"54.173.237.181\", port=6379)#ip=3.112.247.246\n",
    "      r.set('a','sss')\n",
    "      #print(r.get('pic'))\n",
    "      im=r.get('pic')\n",
    "      print(type(im))\n",
    "      \n",
    "      #im=str(im)\n",
    "      print(type(im))\n",
    "      im=im.decode('utf-8')\n",
    "      print(im)\n",
    "      print(im.decode('base64'))\n",
    "      fh = open('testpic.jpg', \"wb\")\n",
    "      fh.write(im.decode('base64'))\n",
    "      fh.close()\n"
   ]
  },
  {
   "cell_type": "code",
   "execution_count": null,
   "metadata": {},
   "outputs": [],
   "source": [
    "#main()"
   ]
  }
 ],
 "metadata": {
  "kernelspec": {
   "display_name": "Python 3",
   "language": "python",
   "name": "python3"
  },
  "language_info": {
   "codemirror_mode": {
    "name": "ipython",
    "version": 3
   },
   "file_extension": ".py",
   "mimetype": "text/x-python",
   "name": "python",
   "nbconvert_exporter": "python",
   "pygments_lexer": "ipython3",
   "version": "3.11.3"
  },
  "orig_nbformat": 4,
  "vscode": {
   "interpreter": {
    "hash": "369f2c481f4da34e4445cda3fffd2e751bd1c4d706f27375911949ba6bb62e1c"
   }
  }
 },
 "nbformat": 4,
 "nbformat_minor": 2
}
